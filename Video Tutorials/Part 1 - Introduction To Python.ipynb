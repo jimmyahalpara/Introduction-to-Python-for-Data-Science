{
 "cells": [
  {
   "cell_type": "markdown",
   "metadata": {
    "slideshow": {
     "slide_type": "slide"
    }
   },
   "source": [
    "# Data Science with Python\n",
    "## Introduction to Python\n",
    "Topic to be covered\n",
    "* __Installing Python__ - Installing Python - Working with IDE - Interactive mode - Working with Command Prompt - Installing and Working with Jupyter Notebook"
   ]
  },
  {
   "cell_type": "markdown",
   "metadata": {
    "slideshow": {
     "slide_type": "subslide"
    }
   },
   "source": [
    "* __First Program__ - First Program - Data Types - Operators\n",
    "* __Conditional Statement__ - if - else - elif\n",
    "* __Functions__ - Defining functions\n",
    "* __Loops__ - for - while\n",
    "* __Lists__ - Working with lists - looping over each element - range function - iterable - map\n",
    "* __Working with String__ - slicing - creating substirng\n",
    "* __Tuple__ - Working with tuple\n",
    "* __Dictionary__ - Making and Working with Dictionary\n"
   ]
  },
  {
   "cell_type": "markdown",
   "metadata": {
    "slideshow": {
     "slide_type": "slide"
    }
   },
   "source": [
    "## First Program\n",
    "\n",
    "Writing Hello world program is really easy, you can start and write 'Hello World' program like this.."
   ]
  },
  {
   "cell_type": "code",
   "execution_count": null,
   "metadata": {
    "slideshow": {
     "slide_type": "fragment"
    }
   },
   "outputs": [],
   "source": [
    "print(\"Hello World\") #here print is inbuilt function"
   ]
  },
  {
   "cell_type": "code",
   "execution_count": null,
   "metadata": {
    "slideshow": {
     "slide_type": "fragment"
    }
   },
   "outputs": [],
   "source": [
    "print('Hello World', 3)"
   ]
  },
  {
   "cell_type": "code",
   "execution_count": null,
   "metadata": {
    "slideshow": {
     "slide_type": "fragment"
    }
   },
   "outputs": [],
   "source": [
    "print('Hello World', 'My name is XYZ', sep = ' -- ')\n",
    "print('I live in India')"
   ]
  },
  {
   "cell_type": "code",
   "execution_count": null,
   "metadata": {
    "slideshow": {
     "slide_type": "subslide"
    }
   },
   "outputs": [],
   "source": [
    "print('Hello World', end = '')\n",
    "print('XYZ')"
   ]
  },
  {
   "cell_type": "code",
   "execution_count": null,
   "metadata": {
    "slideshow": {
     "slide_type": "fragment"
    }
   },
   "outputs": [],
   "source": [
    "help(print)"
   ]
  },
  {
   "cell_type": "markdown",
   "metadata": {
    "slideshow": {
     "slide_type": "subslide"
    }
   },
   "source": [
    "## Data Types\n",
    "* int - integer\n",
    "* float - floating point\n",
    "* complex - complex number\n",
    "* bool - boolean value - True or False\n",
    "* str - string\n",
    "* list - list of objects"
   ]
  },
  {
   "cell_type": "markdown",
   "metadata": {
    "slideshow": {
     "slide_type": "subslide"
    }
   },
   "source": [
    "* tuple - immutable type\n",
    "* dictionary - collection of key and value pairs\n",
    "* set - collection of unique elements"
   ]
  },
  {
   "cell_type": "code",
   "execution_count": null,
   "metadata": {
    "slideshow": {
     "slide_type": "subslide"
    }
   },
   "outputs": [],
   "source": [
    "#notice we don't need to specify any datatype while initializing variables\n",
    "a = 123 #integer\n",
    "b = 12.564 #float\n",
    "c = 3 + 5j #complex number\n",
    "\n",
    "print(a, b, c)"
   ]
  },
  {
   "cell_type": "code",
   "execution_count": null,
   "metadata": {
    "slideshow": {
     "slide_type": "subslide"
    }
   },
   "outputs": [],
   "source": [
    "d = True #boolean value, can also be true\n",
    "e = \"This is String\" #string can be inside double quotes \"\" or inside single quotes ''\n",
    "f = [1, 2, 3, 4, 'a'] #similar to array, can also contain different data type element\n",
    "g = (1, 2, 3, 4, 'b') #same as list, but immutable\n",
    "\n",
    "print(d, e, f, g)"
   ]
  },
  {
   "cell_type": "code",
   "execution_count": null,
   "metadata": {
    "slideshow": {
     "slide_type": "subslide"
    }
   },
   "outputs": [],
   "source": [
    "h = {\"a\":12, \"b\":45, \"c\":43, 'd':'ddde'} #pair of key and values, key should be immutable\n",
    "i = {1, 2, 3, 4, 4, 4} #unique elements\n",
    "print(h, i)  "
   ]
  },
  {
   "cell_type": "code",
   "execution_count": null,
   "metadata": {
    "slideshow": {
     "slide_type": "fragment"
    }
   },
   "outputs": [],
   "source": [
    "print(type(a))\n",
    "print(type(b))\n",
    "print(type(c))"
   ]
  },
  {
   "cell_type": "markdown",
   "metadata": {
    "slideshow": {
     "slide_type": "subslide"
    }
   },
   "source": [
    "## Python Arithmatic Operators\n",
    "\n",
    "Operator | Name | Example\n",
    "---------|------|--------\n",
    "+ | Addition | x + y\n",
    "- | Subtraction | x - y\n",
    "* | Multiplication | x * y\n",
    "/ | Division | x / y\n",
    "% | Modulus | x % y\n",
    "** | Exponentiation | x ** y\n",
    "// | Floor division | x // y\n"
   ]
  },
  {
   "cell_type": "markdown",
   "metadata": {
    "slideshow": {
     "slide_type": "subslide"
    }
   },
   "source": [
    "## Python Assignment Operator\n",
    "Operator | Example | Same As\n",
    "---------|---------|--------\n",
    "= | x = 1 | x = 1\n",
    "+= | x += 2 | x = x + 3\n",
    "-= | x -= 3 | x = x - 3\n",
    "*= | x *= 4 | x = x * 3\n",
    "/= | x /= 5 | x = x / 3\n",
    "%= | x %= 3 | x = x % 3\n",
    "//= | x //= 3 | x = x // 3"
   ]
  },
  {
   "cell_type": "markdown",
   "metadata": {
    "slideshow": {
     "slide_type": "subslide"
    }
   },
   "source": [
    "Operator | Example | Same As\n",
    "---------|---------|--------\n",
    "**= | x **= 3 | x = x // 3\n",
    "&= | x &= 3 | x = x & 3\n",
    "\\|= | x \\|= 3 | x = x | 3\n",
    "^= | x ^= 3 | x = x ^ 3\n",
    ">>= | x >>= 3 | x = x >> 3\n",
    "<<= | x <<= 3 | x = x << 3"
   ]
  },
  {
   "cell_type": "markdown",
   "metadata": {
    "slideshow": {
     "slide_type": "subslide"
    }
   },
   "source": [
    "## Python Comparision Operators\n",
    "\n",
    "Operator | Name | Example \n",
    "---------|------|--------\n",
    "== | Equal | x == y\n",
    "!= | not equal to | x != y\n",
    "> | Greater than | x > y\n",
    "< | Less than | x < y\n",
    ">= | Greater than or equal to | x >= y\n",
    "<= | Less than or equal to | x <= y"
   ]
  },
  {
   "cell_type": "markdown",
   "metadata": {
    "slideshow": {
     "slide_type": "subslide"
    }
   },
   "source": [
    "## Python Logical Operators\n",
    "\n",
    "Operator | Description | Example\n",
    "---------|-------------|--------\n",
    "and | true if both statements are true | x > 5 and y > 5\n",
    "or | true if one of the statements is true | x < 2 or x > 5\n",
    "not | Reverse the result | not x > 5"
   ]
  },
  {
   "cell_type": "markdown",
   "metadata": {
    "slideshow": {
     "slide_type": "subslide"
    }
   },
   "source": [
    "## Python Identity Operator \n",
    "\n",
    "Operator | Desceiption | Example \n",
    "---------|-------------|--------\n",
    "is | true if both variables are same | x is y\n",
    "is not | ture if both variables are not same object | x is not y"
   ]
  },
  {
   "cell_type": "markdown",
   "metadata": {
    "slideshow": {
     "slide_type": "subslide"
    }
   },
   "source": [
    "## Python Membership Operators\n",
    "\n",
    "Operator | DEscription | Example\n",
    "---------|-------------|--------\n",
    "in | true if specified value is present in sequence | 2 in [1 , 2, 3]\n",
    "not in | true if specified value is not present in sequence | 4 not in [1, 3, 3]"
   ]
  },
  {
   "cell_type": "markdown",
   "metadata": {
    "slideshow": {
     "slide_type": "subslide"
    }
   },
   "source": [
    "## Python Bitwise Operators\n",
    "\n",
    "Operator | Name | Description\n",
    "---------|------|------------\n",
    "& | AND | set each bit to 1 if both bits are 1\n",
    "\\| | OR | set each bit to 1 if one of two bits is 1\n",
    "^ | XOR | set each bit to 1 if only one of two bits is 1\n",
    "~ | NOT | Inverts all the bits \n",
    "<< | Zero fill left shift | Shift by pushing zeroes in from right and remove leftmost bit\n",
    ">> | Signed right shift | Shift right by pushing copies of the leftmost bit in from the left and remove rightmost bit\n"
   ]
  },
  {
   "cell_type": "code",
   "execution_count": null,
   "metadata": {
    "slideshow": {
     "slide_type": "subslide"
    }
   },
   "outputs": [],
   "source": [
    "print(10 + 30)\n",
    "print('a' + 'c')\n",
    "var = 'hello ' + 'world'\n",
    "print(var)  "
   ]
  },
  {
   "cell_type": "code",
   "execution_count": null,
   "metadata": {
    "slideshow": {
     "slide_type": "fragment"
    }
   },
   "outputs": [],
   "source": [
    "print(20 * 10)\n",
    "print('a' * 20)"
   ]
  },
  {
   "cell_type": "code",
   "execution_count": null,
   "metadata": {
    "slideshow": {
     "slide_type": "subslide"
    }
   },
   "outputs": [],
   "source": [
    "# in and not in operator\n",
    "lis = [2, 3, 4, 5, 6]\n",
    "print(2 in lis)\n",
    "print(10 in lis)\n",
    "print(10 not in lis)"
   ]
  },
  {
   "cell_type": "markdown",
   "metadata": {
    "slideshow": {
     "slide_type": "slide"
    }
   },
   "source": [
    "## Conditional Statements\n",
    "Conditional statements performs different computation or actions depending on whether a prgrammer specified boolean condition evaluates to True or False.\n",
    "\n",
    "* if \n",
    "* elif \n",
    "* else\n"
   ]
  },
  {
   "cell_type": "markdown",
   "metadata": {
    "slideshow": {
     "slide_type": "subslide"
    }
   },
   "source": [
    "### If statement\n",
    "\n",
    "**if statement syntax:-**\n",
    "```python\n",
    "if <booleanValue>:\n",
    "    <statement1>\n",
    "    <statement2>\n",
    "```\n",
    "Python don't have curly braces to determine any code blocks, and so it uses Indentation. Tabbing your statement, left or right, is called indentation. In, if statement code block, all the statements inside that code block, should be tabed right by one space. "
   ]
  },
  {
   "cell_type": "code",
   "execution_count": null,
   "metadata": {
    "slideshow": {
     "slide_type": "subslide"
    }
   },
   "outputs": [],
   "source": [
    "#let's take an example \n",
    "if True: #here we passed just True value, and so all the statements inside if will always\n",
    "    print('This string will always be printed') #be executed\n",
    "    print('This is second statement')\n",
    "    print('Notice, all three statement inside if code block have same indetation')"
   ]
  },
  {
   "cell_type": "code",
   "execution_count": null,
   "metadata": {
    "slideshow": {
     "slide_type": "subslide"
    }
   },
   "outputs": [],
   "source": [
    "#let's see more practical example,\n",
    "a = 10\n",
    "print(a == 10) #value printed will be passed as condition with if statement.\n",
    "if a == 10:\n",
    "    print('Value of a is 10')"
   ]
  },
  {
   "cell_type": "code",
   "execution_count": null,
   "metadata": {
    "slideshow": {
     "slide_type": "fragment"
    }
   },
   "outputs": [],
   "source": [
    "#if value is not satisfied, else part will be executed\n",
    "a = 10\n",
    "if a == 20:\n",
    "    print('Value of a is 20')\n",
    "else:\n",
    "    print('Value of a is not 20')"
   ]
  },
  {
   "cell_type": "markdown",
   "metadata": {
    "slideshow": {
     "slide_type": "subslide"
    }
   },
   "source": [
    "### else statement\n",
    "\n",
    "```python\n",
    "if <condition>:\n",
    "    <statement1>\n",
    "    <statement2>\n",
    "else:\n",
    "    <statement3>\n",
    "```\n",
    "if condition is not true, the else part with statement 3 will be executed."
   ]
  },
  {
   "cell_type": "code",
   "execution_count": null,
   "metadata": {
    "slideshow": {
     "slide_type": "subslide"
    }
   },
   "outputs": [],
   "source": [
    "#we can join multiple boolean values using logical operators\n",
    "print(True and True) #if both the operand is True, then only returns True\n",
    "print(True and False)#this will return False. \n",
    "if a > 0 and a < 20:\n",
    "    print('a is between 0 and 20')\n",
    "else:\n",
    "    print('a is not between 0 and 20')"
   ]
  },
  {
   "cell_type": "markdown",
   "metadata": {
    "slideshow": {
     "slide_type": "subslide"
    }
   },
   "source": [
    "### elif statement\n",
    "\n",
    "check multiple conditions and execute different code block for each \n",
    "\n",
    "```python\n",
    "if <condition1>:\n",
    "    <statement1>\n",
    "elif <condition2>:\n",
    "    <statement2>\n",
    "elif <condition3>:\n",
    "    <statement3>\n",
    "else:\n",
    "    <statement4>\n",
    "```"
   ]
  },
  {
   "cell_type": "code",
   "execution_count": null,
   "metadata": {
    "slideshow": {
     "slide_type": "subslide"
    }
   },
   "outputs": [],
   "source": [
    "a = 19\n",
    "\n",
    "if a == 17: #this condition will be False\n",
    "    print('a is 17')\n",
    "elif a == 18: #this will also be False\n",
    "    print('a is 18')\n",
    "elif a == 19: #this condition will be True\n",
    "    print('a is 19')\n",
    "elif a == 20: #this condition will not be checked, because in elif, \n",
    "    #if one condition is satisfied, rest is ignored\n",
    "    print('a is 20')\n",
    "else:\n",
    "    print('a is more than 20')"
   ]
  },
  {
   "cell_type": "code",
   "execution_count": null,
   "metadata": {
    "slideshow": {
     "slide_type": "subslide"
    }
   },
   "outputs": [],
   "source": [
    "l = [1, 2, 3, 4, 5, 45, 6, 78]\n",
    "\n",
    "if 10 in l:\n",
    "    print('10 is in list')\n",
    "else:\n",
    "    print('10 is not in list')\n",
    "    \n",
    "if 3 in l:\n",
    "    print('3 in list')\n",
    "else:\n",
    "    print('3 not in list')\n",
    "\n",
    "if 78 not in l:\n",
    "    print('78 not in list')\n",
    "else:\n",
    "    print('78 is in list')"
   ]
  },
  {
   "cell_type": "markdown",
   "metadata": {
    "slideshow": {
     "slide_type": "slide"
    }
   },
   "source": [
    "## Functions\n",
    "\n",
    "Function is a block of code which can be reused multiple times. Function can take values as parameters and can return some value after doing some computation. To define function we use def keyword\n",
    "\n",
    "```python\n",
    "def python_function(parameterList):\n",
    "    #statement1\n",
    "    #statement2\n",
    "    #statement3\n",
    "    return #someValue\n",
    "    \n",
    "```"
   ]
  },
  {
   "cell_type": "code",
   "execution_count": 1,
   "metadata": {
    "slideshow": {
     "slide_type": "subslide"
    }
   },
   "outputs": [
    {
     "name": "stdout",
     "output_type": "stream",
     "text": [
      "Hello, this is a function\n",
      "It does not return any value\n",
      "It does not take any parameter\n",
      "Hello, this is a function\n",
      "It does not return any value\n",
      "It does not take any parameter\n"
     ]
    }
   ],
   "source": [
    "#simple function to print some large stirng\n",
    "def printName():\n",
    "    print(\"Hello, this is a function\")\n",
    "    print('It does not return any value')\n",
    "    print('It does not take any parameter')\n",
    "\n",
    "printName() #this is a function call\n",
    "printName() #when paranthesis is present, it becomes function call\n",
    "#we can reuse the same code block again and again"
   ]
  },
  {
   "cell_type": "code",
   "execution_count": 2,
   "metadata": {
    "slideshow": {
     "slide_type": "subslide"
    }
   },
   "outputs": [
    {
     "name": "stdout",
     "output_type": "stream",
     "text": [
      "Hello, yash\n",
      "Hello, jimmy\n"
     ]
    }
   ],
   "source": [
    "# now let's define a function which takes a neme as parameter\n",
    "# and print hello with name, 'Hello, ' + name\n",
    "def greet(name):\n",
    "    print('Hello, ' + name)\n",
    "\n",
    "greet('yash')\n",
    "greet('jimmy')"
   ]
  },
  {
   "cell_type": "code",
   "execution_count": 3,
   "metadata": {
    "slideshow": {
     "slide_type": "subslide"
    }
   },
   "outputs": [
    {
     "name": "stdout",
     "output_type": "stream",
     "text": [
      "1728\n",
      "1000\n"
     ]
    }
   ],
   "source": [
    "# next, we'll define a function which will return some value\n",
    "#we'll define a function which will find a power b\n",
    "def returnPower(a, b):\n",
    "    return a ** b \n",
    "\n",
    "a = returnPower(12 , 3)\n",
    "print(a)\n",
    "print(returnPower(10 , 3))"
   ]
  },
  {
   "cell_type": "markdown",
   "metadata": {
    "slideshow": {
     "slide_type": "subslide"
    }
   },
   "source": [
    "### Types of argument\n",
    "\n",
    "* **Non-Default argument** - *while calling, we need to pass values for these arguments, or else error will occure*\n",
    "* **Default argument** - *these arguments are optional, if value is not passed, it takes default value*\n",
    "\n",
    "```python\n",
    "def function_name(nondefault_argument, default_argument = 45):\n",
    "    return #some value\n",
    "```\n",
    "***while defining a function, you always have to place default argument after non-default argument***"
   ]
  },
  {
   "cell_type": "markdown",
   "metadata": {
    "slideshow": {
     "slide_type": "subslide"
    }
   },
   "source": [
    "![positional argument](positional_argument_function_calling.png)"
   ]
  },
  {
   "cell_type": "code",
   "execution_count": 4,
   "metadata": {
    "slideshow": {
     "slide_type": "fragment"
    }
   },
   "outputs": [
    {
     "name": "stdout",
     "output_type": "stream",
     "text": [
      "a = 1 b = 2 c = 10 d=  20\n",
      "a = 1 b = 2 c = 3 d=  20\n",
      "a = 1 b = 2 c = 3 d=  4\n"
     ]
    }
   ],
   "source": [
    "def function_one(a, b, c = 10, d = 20):\n",
    "    print('a =', a, 'b =', b, 'c =', c, 'd= ', d)\n",
    "function_one(1, 2)\n",
    "function_one(1, 2, 3)\n",
    "function_one(1, 2, 3, 4)\n",
    "#in above function calls we pass values of parameters based on position,\n",
    "#so order of values passed matters"
   ]
  },
  {
   "cell_type": "markdown",
   "metadata": {
    "slideshow": {
     "slide_type": "subslide"
    }
   },
   "source": [
    "![keywordargument](keyword_arguments.png)"
   ]
  },
  {
   "cell_type": "code",
   "execution_count": 5,
   "metadata": {
    "slideshow": {
     "slide_type": "fragment"
    }
   },
   "outputs": [
    {
     "name": "stdout",
     "output_type": "stream",
     "text": [
      "a = 1 b = 2 c = 3 d=  4\n",
      "a = 1 b = 2 c = 3 d=  4\n",
      "a = 100 b = 200 c = 300 d=  400\n"
     ]
    }
   ],
   "source": [
    "#another way of passing argument is keyword arguments\n",
    "function_one(a = 1, b = 2, c = 3, d = 4)\n",
    "function_one(c = 3, d = 4,a = 1, b = 2) #here order does not matter\n",
    "#positional and keyword argument mix\n",
    "function_one(100, 200, d = 400, c = 300)\n",
    "#order of positional matters, so a will take value 100\n",
    "#and b will take value 200"
   ]
  },
  {
   "cell_type": "code",
   "execution_count": 6,
   "metadata": {
    "slideshow": {
     "slide_type": "subslide"
    }
   },
   "outputs": [
    {
     "ename": "SyntaxError",
     "evalue": "positional argument follows keyword argument (<ipython-input-6-d934a2e7a31a>, line 3)",
     "output_type": "error",
     "traceback": [
      "\u001b[1;36m  File \u001b[1;32m\"<ipython-input-6-d934a2e7a31a>\"\u001b[1;36m, line \u001b[1;32m3\u001b[0m\n\u001b[1;33m    function_one(100, d = 400, c = 300, 200)\u001b[0m\n\u001b[1;37m                                       ^\u001b[0m\n\u001b[1;31mSyntaxError\u001b[0m\u001b[1;31m:\u001b[0m positional argument follows keyword argument\n"
     ]
    }
   ],
   "source": [
    "#error will occure if you try to pass keyword argument before passing\n",
    "#all the positional arguments\n",
    "function_one(100, d = 400, c = 300, 200)"
   ]
  },
  {
   "cell_type": "markdown",
   "metadata": {
    "slideshow": {
     "slide_type": "subslide"
    }
   },
   "source": [
    "### Lambda\n",
    "\n",
    "Anonymous functions in python, are the functions which are defined without names. Normal function is defined using def keyword, anonymous functions are defined using lambda keyword.\n",
    "\n",
    "```python\n",
    "my_func = lambda arg1, arg2 : #some expression\n",
    "```"
   ]
  },
  {
   "cell_type": "code",
   "execution_count": null,
   "metadata": {
    "slideshow": {
     "slide_type": "subslide"
    }
   },
   "outputs": [],
   "source": [
    "# let's define the returnPower function, which we defined earlier,\n",
    "# again, but using lambda\n",
    "returnPower = lambda a, b: a**b\n",
    "\n",
    "print(returnPower(12, 2))\n",
    "print(returnPower(144, 0.5)) #its performing square root."
   ]
  },
  {
   "cell_type": "markdown",
   "metadata": {
    "slideshow": {
     "slide_type": "subslide"
    }
   },
   "source": [
    "### Object not callable error\n",
    "\n",
    "This error occures when your try to use paranthesis to call an object which is not callable. That means you use paranthesis on some other object, rather than a function \n"
   ]
  },
  {
   "cell_type": "code",
   "execution_count": null,
   "metadata": {
    "slideshow": {
     "slide_type": "subslide"
    }
   },
   "outputs": [],
   "source": [
    "#here we have list stored in variable a, \n",
    "#list is not callable\n",
    "a = [2,3]\n",
    "a() #so, this line causes error."
   ]
  }
 ],
 "metadata": {
  "celltoolbar": "Slideshow",
  "kernelspec": {
   "display_name": "Python 3",
   "language": "python",
   "name": "python3"
  },
  "language_info": {
   "codemirror_mode": {
    "name": "ipython",
    "version": 3
   },
   "file_extension": ".py",
   "mimetype": "text/x-python",
   "name": "python",
   "nbconvert_exporter": "python",
   "pygments_lexer": "ipython3",
   "version": "3.6.5"
  }
 },
 "nbformat": 4,
 "nbformat_minor": 4
}
